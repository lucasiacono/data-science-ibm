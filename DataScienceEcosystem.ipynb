{
 "cells": [
  {
   "cell_type": "markdown",
   "id": "aa403e49",
   "metadata": {},
   "source": [
    "# Data Science Tools and Ecosystem\n"
   ]
  },
  {
   "cell_type": "markdown",
   "id": "e49b4d9c",
   "metadata": {},
   "source": [
    "In this notebook, Data Science Tools and Ecosystem are summarized"
   ]
  },
  {
   "cell_type": "markdown",
   "id": "ad0d6c3c",
   "metadata": {},
   "source": [
    "**Objectives:**\n",
    "\n",
    "- List popular languages for Data Science.\n",
    "- List commonly used libraries used by Data Scientists.\n",
    "- Evaluate arithmetic expressions in Python.\n",
    "- List Open Source Data Science Tools"
   ]
  },
  {
   "cell_type": "markdown",
   "id": "894bd881",
   "metadata": {},
   "source": [
    "---\n",
    "\n",
    "Some of the popular languages that Data Scientists use are:\n",
    "\n",
    "---\n",
    "\n",
    "1. Python\n",
    "2. R\n",
    "3. Julia\n",
    "4. Scala"
   ]
  },
  {
   "cell_type": "markdown",
   "id": "5ad96a28",
   "metadata": {},
   "source": [
    "---\n",
    "Some of the commonly used libraries used by Data Scientists include:\n",
    "\n",
    "---\n",
    "\n",
    "1. Pandas\n",
    "\n",
    "2. SciPy\n",
    "\n",
    "3. NumPy"
   ]
  },
  {
   "cell_type": "markdown",
   "id": "f2a624e5",
   "metadata": {},
   "source": [
    "| Data Science Tools   |\n",
    "|:---------------------|\n",
    "|Jupyter Labs          |\n",
    "|RStudio               |\n",
    "|Apache Spark          |"
   ]
  },
  {
   "cell_type": "markdown",
   "id": "775a9479",
   "metadata": {},
   "source": [
    "### Below are a few examples of evaluating arithmetic expressions in Python.\n",
    "\n",
    "A + B = C\n",
    "\n",
    "A * B = D\n",
    "\n",
    "(A+C)-(A/D) = F"
   ]
  },
  {
   "cell_type": "code",
   "execution_count": 7,
   "id": "07c56f98",
   "metadata": {},
   "outputs": [
    {
     "data": {
      "text/plain": [
       "17"
      ]
     },
     "execution_count": 7,
     "metadata": {},
     "output_type": "execute_result"
    }
   ],
   "source": [
    "# This a simple arithmetic expression to mutiply then add integers.\n",
    "\n",
    "(3*4)+5\n"
   ]
  },
  {
   "cell_type": "code",
   "execution_count": 8,
   "id": "4377b25c",
   "metadata": {},
   "outputs": [
    {
     "name": "stdout",
     "output_type": "stream",
     "text": [
      "3.3333333333333335\n"
     ]
    }
   ],
   "source": [
    "#This will convert 200 minutes to hours by diving by 60.\n",
    "\n",
    "minutes = 200\n",
    "\n",
    "hours = minutes/60\n",
    "\n",
    "print(hours)"
   ]
  },
  {
   "cell_type": "markdown",
   "id": "9f8c0e90",
   "metadata": {},
   "source": [
    "## Author:\n",
    "\n",
    "Lucas Iacono"
   ]
  },
  {
   "cell_type": "code",
   "execution_count": null,
   "id": "98d87868",
   "metadata": {},
   "outputs": [],
   "source": []
  }
 ],
 "metadata": {
  "kernelspec": {
   "display_name": "Python 3",
   "language": "python",
   "name": "python3"
  },
  "language_info": {
   "codemirror_mode": {
    "name": "ipython",
    "version": 3
   },
   "file_extension": ".py",
   "mimetype": "text/x-python",
   "name": "python",
   "nbconvert_exporter": "python",
   "pygments_lexer": "ipython3",
   "version": "3.6.7"
  }
 },
 "nbformat": 4,
 "nbformat_minor": 5
}
